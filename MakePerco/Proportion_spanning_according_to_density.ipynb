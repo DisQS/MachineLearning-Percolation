{
 "cells": [
  {
   "cell_type": "code",
   "execution_count": 9,
   "metadata": {},
   "outputs": [],
   "source": [
    "import csv\n",
    "import pandas as pd\n",
    "import numpy\n",
    "import os"
   ]
  },
  {
   "cell_type": "code",
   "execution_count": 10,
   "metadata": {},
   "outputs": [],
   "source": [
    "csv_file='./data_pkl_100_100_Line.csv'"
   ]
  },
  {
   "cell_type": "code",
   "execution_count": 13,
   "metadata": {},
   "outputs": [],
   "source": [
    "def span_proportion(csv_file):\n",
    "    data=pd.read_csv(csv_file, header=None)\n",
    "    data_fol=csv_file.split('/')[-1]\n",
    "    classes=data[1].unique()\n",
    "    span_list=[]\n",
    "    non_span_list=[]\n",
    "    original=[]\n",
    "    classes.sort()\n",
    "    #classes_p=[C.strip('p') for C in classes]\n",
    "    print(classes)\n",
    "    for p in classes:\n",
    "        df=data[data[1]==p]\n",
    "        df_0=df[df[2]==0]\n",
    "        df_1=df[df[2]==1]\n",
    "        #print(df_0)\n",
    "        nb_non_span=df_0.count()[2]\n",
    "        nb_span=df_1.count()[2]\n",
    "        ratio_non_span=nb_non_span#/5000\n",
    "        ratio_span=nb_span#/5000\n",
    "        span_list.append(ratio_span)\n",
    "        non_span_list.append(ratio_non_span)\n",
    "        \n",
    "        print(ratio_non_span,ratio_span)\n",
    "    \n",
    "    dict = {'density': classes,'non_spanning': non_span_list, 'spanning': span_list}\n",
    "    df_file = pd.DataFrame(dict)\n",
    "    df_file.to_csv('proportions_span_non_span_in_'+data_fol+'.csv',index=False)"
   ]
  },
  {
   "cell_type": "code",
   "execution_count": 14,
   "metadata": {},
   "outputs": [
    {
     "name": "stdout",
     "output_type": "stream",
     "text": [
      "['p0.1' 'p0.2' 'p0.5' 'p0.55' 'p0.555' 'p0.56' 'p0.565' 'p0.57' 'p0.575'\n",
      " 'p0.58' 'p0.585' 'p0.59' 'p0.595' 'p0.6' 'p0.605' 'p0.61' 'p0.615'\n",
      " 'p0.62' 'p0.625' 'p0.63' 'p0.635' 'p0.64' 'p0.645' 'p0.65' 'p0.655'\n",
      " 'p0.66' 'p0.7']\n",
      "1 0\n",
      "1 0\n",
      "0 100\n",
      "0 100\n",
      "0 100\n",
      "0 100\n",
      "0 100\n",
      "0 100\n",
      "0 100\n",
      "0 100\n",
      "0 100\n",
      "0 100\n",
      "0 100\n",
      "0 100\n",
      "0 100\n",
      "0 100\n",
      "0 100\n",
      "0 100\n",
      "0 100\n",
      "0 100\n",
      "0 100\n",
      "0 100\n",
      "0 100\n",
      "0 100\n",
      "0 100\n",
      "0 100\n",
      "0 100\n"
     ]
    }
   ],
   "source": [
    "span_proportion(csv_file)"
   ]
  },
  {
   "cell_type": "code",
   "execution_count": null,
   "metadata": {},
   "outputs": [],
   "source": []
  },
  {
   "cell_type": "code",
   "execution_count": null,
   "metadata": {},
   "outputs": [],
   "source": []
  },
  {
   "cell_type": "code",
   "execution_count": null,
   "metadata": {},
   "outputs": [],
   "source": []
  }
 ],
 "metadata": {
  "kernelspec": {
   "display_name": "Python 3",
   "language": "python",
   "name": "python3"
  },
  "language_info": {
   "codemirror_mode": {
    "name": "ipython",
    "version": 3
   },
   "file_extension": ".py",
   "mimetype": "text/x-python",
   "name": "python",
   "nbconvert_exporter": "python",
   "pygments_lexer": "ipython3",
   "version": "3.8.6"
  }
 },
 "nbformat": 4,
 "nbformat_minor": 4
}

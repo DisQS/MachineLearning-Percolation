{
 "cells": [
  {
   "cell_type": "markdown",
   "metadata": {},
   "source": [
    "# Generation of percolation's datasets ( 31 janvier 2020) \n",
    "# (reduced memory usage compare to the first version) "
   ]
  },
  {
   "cell_type": "markdown",
   "metadata": {},
   "source": [
    "This code generate a dataset used for the Keras code Keras_Percolation_spanning-density. In input we have a list of density for which we want to generate percolation and then we sort them depending on the spanning or not of the data."
   ]
  },
  {
   "cell_type": "code",
   "execution_count": 1,
   "metadata": {},
   "outputs": [],
   "source": [
    "%matplotlib inline\n",
    "import matplotlib.pyplot as pl\n",
    "import numpy as np\n",
    "from collections import Counter\n",
    "from random import random\n",
    "import os\n",
    "#Pour voir les matrices  en entiers sans troncature\n",
    "import sys\n",
    "import numpy\n",
    "numpy.set_printoptions(threshold=sys.maxsize)"
   ]
  },
  {
   "cell_type": "code",
   "execution_count": 2,
   "metadata": {},
   "outputs": [
    {
     "data": {
      "text/plain": [
       "{'total': 16500514816,\n",
       " 'available': 9756688384,\n",
       " 'percent': 40.9,\n",
       " 'used': 5433188352,\n",
       " 'free': 5216706560,\n",
       " 'active': 7339638784,\n",
       " 'inactive': 2873614336,\n",
       " 'buffers': 652234752,\n",
       " 'cached': 5198385152,\n",
       " 'shared': 963133440,\n",
       " 'slab': 626335744}"
      ]
     },
     "execution_count": 2,
     "metadata": {},
     "output_type": "execute_result"
    }
   ],
   "source": [
    "#!/usr/bin/env python\n",
    "import psutil\n",
    "# gives a single float value\n",
    "psutil.cpu_percent()\n",
    "# gives an object with many fields\n",
    "psutil.virtual_memory()\n",
    "# you can convert that object to a dictionary \n",
    "dict(psutil.virtual_memory()._asdict())"
   ]
  },
  {
   "cell_type": "markdown",
   "metadata": {},
   "source": [
    "Function giving the intersection set of two list given in input"
   ]
  },
  {
   "cell_type": "code",
   "execution_count": 3,
   "metadata": {},
   "outputs": [],
   "source": [
    "def intersection(lst1, lst2): \n",
    "    lst3 = [value for value in lst1 if value in lst2] \n",
    "    return lst3 \n",
    "\n",
    "def intersection1(lst1, lst2): \n",
    "    return list(set(lst1) & set(lst2)) "
   ]
  },
  {
   "cell_type": "markdown",
   "metadata": {},
   "source": [
    "Here we have a function creating a directory at the chosen path."
   ]
  },
  {
   "cell_type": "code",
   "execution_count": 4,
   "metadata": {},
   "outputs": [],
   "source": [
    "def create_directory(path):\n",
    "    import os\n",
    "    print(os.getcwd())\n",
    "\n",
    "    try:\n",
    "        os.mkdir(path)\n",
    "    except OSError:\n",
    "        print (\"Creation of the directory %s failed\" % path)\n",
    "    else:\n",
    "        print (\"Successfully created the directory %s \" % path)\n",
    "    \n",
    "    return"
   ]
  },
  {
   "cell_type": "markdown",
   "metadata": {},
   "source": [
    "this is a function finding the whole cluster given a single starting pixel"
   ]
  },
  {
   "cell_type": "code",
   "execution_count": 5,
   "metadata": {},
   "outputs": [],
   "source": [
    "def fill(x, y, n_clusters, N, A, cluster, sizes):\n",
    "\n",
    "    stack = [(x,y)] #last occupied site\n",
    "\n",
    "    while len(stack) > 0:\n",
    "        x, y = stack.pop(-1)\n",
    "\n",
    "        if A[x,y] == 1 and cluster[x,y] == -1:\n",
    "            cluster[x,y] = n_clusters\n",
    "            sizes[n_clusters] += 1     #augmente le nombre de site du cluster\n",
    "\n",
    "            if y+1 < N:\n",
    "                stack.append((x,y+1))\n",
    "            if y-1 >= 0:\n",
    "                stack.append((x,y-1))\n",
    "\n",
    "            if x+1 < N:\n",
    "                stack.append((x+1,y))\n",
    "            if x-1 >= 0:\n",
    "                stack.append((x-1,y))"
   ]
  },
  {
   "cell_type": "code",
   "execution_count": 6,
   "metadata": {},
   "outputs": [],
   "source": [
    "def list_dir(path):\n",
    "    for name in os.listdir(path):\n",
    "        yield name"
   ]
  },
  {
   "cell_type": "markdown",
   "metadata": {},
   "source": [
    "Function generating im image of percolation at density p with N sites."
   ]
  },
  {
   "cell_type": "code",
   "execution_count": 7,
   "metadata": {},
   "outputs": [],
   "source": [
    "def percolation(im,p,N):\n",
    "    import random\n",
    "    import numpy as np\n",
    "    from sklearn.preprocessing import normalize\n",
    "    random.seed(42)\n",
    "    create_directory('percolation')\n",
    "    create_directory('no_percolation')\n",
    "    \n",
    "    for t in range(im):\n",
    "\n",
    "        # site occupation matrix\n",
    "        A = np.random.binomial(1,p,size=(N,N))\n",
    "        nnz = A.nonzero()\n",
    "        n_clusters = 0\n",
    "        cluster = np.zeros((N,N),dtype=int) - 1\n",
    "        sizes = Counter()\n",
    "         \n",
    "        for i, j in zip(*nnz):\n",
    "            if cluster[i,j] < 0:\n",
    "                fill(i,j, n_clusters, N, A, cluster, sizes)\n",
    "                n_clusters += 1\n",
    "        new_mapping = np.arange(0,n_clusters)\n",
    "        np.random.shuffle(new_mapping)\n",
    "        cluster = np.array([new_mapping[v] if not v == -1 else np.nan for v in cluster.flat]).reshape(N,N)\n",
    "\n",
    "        # count the number of clusters of size m\n",
    "        all_sizes = Counter(list(sizes.values()))\n",
    "        x = np.arange(1,N**2+1)\n",
    "        y = [all_sizes[s] for s in x]\n",
    "\n",
    "        # get size of largest cluster\n",
    "        max_size = max(all_sizes.keys())\n",
    "        \n",
    "        l=int(p*10**4) \n",
    "        \n",
    "        \n",
    "        first_line=(x for x in cluster[0,])\n",
    "        last_line=(y for y in cluster[len(cluster[0])-1,:])\n",
    "        first_column=(w for w in cluster[:,0])\n",
    "        last_column=(z for z in cluster[:,len(cluster)-1])\n",
    "        if (set(first_line).intersection(set(last_line))!=set() or \n",
    "        set(first_column).intersection(set(last_column))!=set()):\n",
    "            os.chdir('percolation')\n",
    "            cluster[np.isnan(cluster)]=0\n",
    "            cluster.astype('float64')\n",
    "            cluster=cluster/np.linalg.norm(cluster)\n",
    "            cluster=cluster.flatten()  \n",
    "            np.savetxt(\"percolation_\"+str(l)+\"_\"+str(t)+\"_0.csv\",list(cluster), newline=\"\\n\",fmt='%.5e')\n",
    "            os.chdir('..')\n",
    "        else:\n",
    "            os.chdir('no_percolation')                        \n",
    "            cluster[np.isnan(cluster)]=0 \n",
    "            cluster.astype('float64')\n",
    "            cluster=cluster/np.linalg.norm(cluster)\n",
    "            cluster=cluster.flatten()\n",
    "            np.savetxt(\"no_percolation_\"+str(l)+\"_\"+str(t)+\"_1.csv\",list(cluster), newline=\"\\n\",fmt='%.5e')\n",
    "            os.chdir('..')\n",
    "\n",
    "        pl.close('all')\n",
    "        \n",
    "    return\n",
    "\n"
   ]
  },
  {
   "cell_type": "markdown",
   "metadata": {},
   "source": [
    "Generate im images at given density p given in input through list L."
   ]
  },
  {
   "cell_type": "code",
   "execution_count": 8,
   "metadata": {},
   "outputs": [],
   "source": [
    "def percolation_density(im,L):\n",
    "    import os\n",
    "    for p in L:\n",
    "        percolation(im,p,100)\n",
    "    return\n",
    "    "
   ]
  },
  {
   "cell_type": "markdown",
   "metadata": {},
   "source": [
    "Check the path of the current directory."
   ]
  },
  {
   "cell_type": "code",
   "execution_count": 9,
   "metadata": {},
   "outputs": [
    {
     "data": {
      "text/plain": [
       "'/home/phrhmb/Desktop/Percolation_desktop'"
      ]
     },
     "execution_count": 9,
     "metadata": {},
     "output_type": "execute_result"
    }
   ],
   "source": [
    "os.getcwd()"
   ]
  },
  {
   "cell_type": "markdown",
   "metadata": {},
   "source": [
    "create a directory, then change current directory to the new created one."
   ]
  },
  {
   "cell_type": "code",
   "execution_count": 10,
   "metadata": {},
   "outputs": [
    {
     "name": "stdout",
     "output_type": "stream",
     "text": [
      "/home/phrhmb/Desktop/Percolation_desktop\n",
      "Successfully created the directory training_set_test_numbers_10_row_bis_test \n"
     ]
    }
   ],
   "source": [
    "create_directory('training_set_test_numbers_10_row_bis_test')\n",
    "os.chdir('training_set_test_numbers_10_row_bis_test')"
   ]
  },
  {
   "cell_type": "code",
   "execution_count": 11,
   "metadata": {},
   "outputs": [
    {
     "name": "stdout",
     "output_type": "stream",
     "text": [
      "/home/phrhmb/Desktop/Percolation_desktop/training_set_test_numbers_10_row_bis_test\n"
     ]
    }
   ],
   "source": [
    "print(os.getcwd())"
   ]
  },
  {
   "cell_type": "code",
   "execution_count": 12,
   "metadata": {},
   "outputs": [],
   "source": [
    "#os.chdir(\"training_set_100pi\")"
   ]
  },
  {
   "cell_type": "markdown",
   "metadata": {},
   "source": [
    "Allow us to have a list of float."
   ]
  },
  {
   "cell_type": "code",
   "execution_count": 13,
   "metadata": {},
   "outputs": [
    {
     "data": {
      "text/plain": [
       "[0.1, 0.2, 0.3, 0.4, 0.5, 0.6, 0.7, 0.8, 0.5927, 0.61]"
      ]
     },
     "execution_count": 13,
     "metadata": {},
     "output_type": "execute_result"
    }
   ],
   "source": [
    "L=[x/10 for x in range(1,9)]\n",
    "L.extend([0.5927,0.61])\n",
    "L\n"
   ]
  },
  {
   "cell_type": "code",
   "execution_count": 14,
   "metadata": {},
   "outputs": [
    {
     "name": "stdout",
     "output_type": "stream",
     "text": [
      "hello\n"
     ]
    }
   ],
   "source": [
    "import time\n",
    "\n",
    "start = time.time()\n",
    "print(\"hello\")\n"
   ]
  },
  {
   "cell_type": "code",
   "execution_count": 15,
   "metadata": {
    "scrolled": false
   },
   "outputs": [
    {
     "name": "stdout",
     "output_type": "stream",
     "text": [
      "/home/phrhmb/Desktop/Percolation_desktop/training_set_test_numbers_10_row_bis_test\n",
      "Successfully created the directory percolation \n",
      "/home/phrhmb/Desktop/Percolation_desktop/training_set_test_numbers_10_row_bis_test\n",
      "Successfully created the directory no_percolation \n",
      "/home/phrhmb/Desktop/Percolation_desktop/training_set_test_numbers_10_row_bis_test\n",
      "Creation of the directory percolation failed\n",
      "/home/phrhmb/Desktop/Percolation_desktop/training_set_test_numbers_10_row_bis_test\n",
      "Creation of the directory no_percolation failed\n",
      "/home/phrhmb/Desktop/Percolation_desktop/training_set_test_numbers_10_row_bis_test\n",
      "Creation of the directory percolation failed\n",
      "/home/phrhmb/Desktop/Percolation_desktop/training_set_test_numbers_10_row_bis_test\n",
      "Creation of the directory no_percolation failed\n",
      "/home/phrhmb/Desktop/Percolation_desktop/training_set_test_numbers_10_row_bis_test\n",
      "Creation of the directory percolation failed\n",
      "/home/phrhmb/Desktop/Percolation_desktop/training_set_test_numbers_10_row_bis_test\n",
      "Creation of the directory no_percolation failed\n",
      "/home/phrhmb/Desktop/Percolation_desktop/training_set_test_numbers_10_row_bis_test\n",
      "Creation of the directory percolation failed\n",
      "/home/phrhmb/Desktop/Percolation_desktop/training_set_test_numbers_10_row_bis_test\n",
      "Creation of the directory no_percolation failed\n",
      "/home/phrhmb/Desktop/Percolation_desktop/training_set_test_numbers_10_row_bis_test\n",
      "Creation of the directory percolation failed\n",
      "/home/phrhmb/Desktop/Percolation_desktop/training_set_test_numbers_10_row_bis_test\n",
      "Creation of the directory no_percolation failed\n",
      "/home/phrhmb/Desktop/Percolation_desktop/training_set_test_numbers_10_row_bis_test\n",
      "Creation of the directory percolation failed\n",
      "/home/phrhmb/Desktop/Percolation_desktop/training_set_test_numbers_10_row_bis_test\n",
      "Creation of the directory no_percolation failed\n",
      "/home/phrhmb/Desktop/Percolation_desktop/training_set_test_numbers_10_row_bis_test\n",
      "Creation of the directory percolation failed\n",
      "/home/phrhmb/Desktop/Percolation_desktop/training_set_test_numbers_10_row_bis_test\n",
      "Creation of the directory no_percolation failed\n",
      "/home/phrhmb/Desktop/Percolation_desktop/training_set_test_numbers_10_row_bis_test\n",
      "Creation of the directory percolation failed\n",
      "/home/phrhmb/Desktop/Percolation_desktop/training_set_test_numbers_10_row_bis_test\n",
      "Creation of the directory no_percolation failed\n",
      "/home/phrhmb/Desktop/Percolation_desktop/training_set_test_numbers_10_row_bis_test\n",
      "Creation of the directory percolation failed\n",
      "/home/phrhmb/Desktop/Percolation_desktop/training_set_test_numbers_10_row_bis_test\n",
      "Creation of the directory no_percolation failed\n"
     ]
    }
   ],
   "source": [
    "percolation_density(10,L)"
   ]
  },
  {
   "cell_type": "code",
   "execution_count": 16,
   "metadata": {},
   "outputs": [
    {
     "name": "stdout",
     "output_type": "stream",
     "text": [
      "4.975231170654297\n"
     ]
    }
   ],
   "source": [
    "end = time.time()\n",
    "print(end - start) #temps en secondes"
   ]
  },
  {
   "cell_type": "code",
   "execution_count": 17,
   "metadata": {},
   "outputs": [
    {
     "data": {
      "text/plain": [
       "'/home/phrhmb/Desktop/Percolation_desktop/training_set_test_numbers_10_row_bis_test'"
      ]
     },
     "execution_count": 17,
     "metadata": {},
     "output_type": "execute_result"
    }
   ],
   "source": [
    "import os\n",
    "a=os.getcwd()\n",
    "a\n"
   ]
  },
  {
   "cell_type": "code",
   "execution_count": 18,
   "metadata": {},
   "outputs": [],
   "source": [
    "def check_name(path,L):\n",
    "    #print(L)\n",
    "    import re\n",
    "    c=0\n",
    "    N=os.listdir(path)\n",
    "    #print(N)\n",
    "    V=len(N)\n",
    "    del(N)\n",
    "   \n",
    "    result=[0]*V\n",
    "    Z=[0]*V\n",
    "\n",
    "    for j in range(len(L)):\n",
    "        L[j]=int(L[j]*10**4)\n",
    "\n",
    "    B=(name for name in os.listdir(path))\n",
    "\n",
    "    for c in range(V):\n",
    "          \n",
    "        A=next(B).split('_')[1]      \n",
    "        print(A)\n",
    "    \n",
    "        regex1 = re.compile('\\d+')\n",
    "        result[c]=re.findall(regex1,A)\n",
    "        c+=1\n",
    "    print(result)\n",
    "    for j in range(len(result)):\n",
    "        #print(j)\n",
    "        Z[j]=int(result[j][0])\n",
    "        j+=1\n",
    "    print(Z)\n",
    "    L=list(set(L).difference(Z))\n",
    "\n",
    "    \n",
    "    print(L)\n",
    "    \n",
    "    return\n",
    "    \n",
    "    "
   ]
  },
  {
   "cell_type": "code",
   "execution_count": 19,
   "metadata": {},
   "outputs": [],
   "source": [
    "L=[0.1, 0.2, 0.3, 0.4, 0.5, 0.6, 0.7, 0.8, 0.9, 0.5927, 0.61]"
   ]
  },
  {
   "cell_type": "code",
   "execution_count": 20,
   "metadata": {},
   "outputs": [],
   "source": [
    "#check_name('/home/e-dbayo/Desktop/Perco/training_test/percolation',L)"
   ]
  },
  {
   "cell_type": "code",
   "execution_count": 21,
   "metadata": {},
   "outputs": [
    {
     "name": "stdout",
     "output_type": "stream",
     "text": [
      "21.8\n",
      "svmem(total=16500514816, available=9745813504, percent=40.9, used=5441908736, free=5192941568, active=7347634176, inactive=2888065024, buffers=652464128, cached=5213200384, shared=965267456, slab=626642944)\n",
      "memory % used: 40.9\n"
     ]
    }
   ],
   "source": [
    "from __future__ import print_function\n",
    "import psutil\n",
    "print(psutil.cpu_percent())\n",
    "print(psutil.virtual_memory())  # physical memory usage\n",
    "print('memory % used:', psutil.virtual_memory()[2])"
   ]
  },
  {
   "cell_type": "code",
   "execution_count": null,
   "metadata": {},
   "outputs": [],
   "source": []
  },
  {
   "cell_type": "code",
   "execution_count": null,
   "metadata": {},
   "outputs": [],
   "source": []
  },
  {
   "cell_type": "code",
   "execution_count": null,
   "metadata": {},
   "outputs": [],
   "source": []
  },
  {
   "cell_type": "code",
   "execution_count": null,
   "metadata": {},
   "outputs": [],
   "source": []
  }
 ],
 "metadata": {
  "kernelspec": {
   "display_name": "Python 3",
   "language": "python",
   "name": "python3"
  },
  "language_info": {
   "codemirror_mode": {
    "name": "ipython",
    "version": 3
   },
   "file_extension": ".py",
   "mimetype": "text/x-python",
   "name": "python",
   "nbconvert_exporter": "python",
   "pygments_lexer": "ipython3",
   "version": "3.7.6"
  }
 },
 "nbformat": 4,
 "nbformat_minor": 2
}
